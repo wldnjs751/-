{
  "nbformat": 4,
  "nbformat_minor": 0,
  "metadata": {
    "colab": {
      "name": "미래의배우자.ipynb",
      "provenance": [],
      "collapsed_sections": [],
      "authorship_tag": "ABX9TyP+vYGH+DFd4XlpK3UqCv4Y",
      "include_colab_link": true
    },
    "kernelspec": {
      "name": "python3",
      "display_name": "Python 3"
    },
    "language_info": {
      "name": "python"
    }
  },
  "cells": [
    {
      "cell_type": "markdown",
      "metadata": {
        "id": "view-in-github",
        "colab_type": "text"
      },
      "source": [
        "<a href=\"https://colab.research.google.com/github/wldnjs751/-/blob/main/%EB%AF%B8%EB%9E%98%EC%9D%98%EB%B0%B0%EC%9A%B0%EC%9E%90.ipynb\" target=\"_parent\"><img src=\"https://colab.research.google.com/assets/colab-badge.svg\" alt=\"Open In Colab\"/></a>"
      ]
    },
    {
      "cell_type": "markdown",
      "source": [
        ""
      ],
      "metadata": {
        "id": "ZLXNr9nETXpZ"
      }
    },
    {
      "cell_type": "code",
      "execution_count": null,
      "metadata": {
        "id": "pQjUHzLLMzQy"
      },
      "outputs": [],
      "source": [
        "import time\n",
        "name = input('당신의 이름은?')\n",
        "print()\n",
        "생일 = input('당신의 생년월일은?')\n",
        "print()\n",
        "\n",
        "\n",
        "print( name + '님 안녕하세요? 당신의 미래의 배우자에 대해 알려드리겠습니다.')\n",
        "time.sleep(3)\n",
        "\n",
        "나이 = ['5살 연하','4살 연하', '3살 연하', '2살 연하', '1살 연하', '동갑', '1살 연상', '2살 연상', '3살 연상', '4살 연상', '5살 연상']\n",
        "직업 = ['정치인', '학원강사', '세공사', '과일장수', '에어컨 수리기사', '건물주', '과학자', '약사', '의사','백수', '선생님', '사업가', '개발자', '화가', '연예인', '디자이너', '작가']\n",
        "mbti = ['ENFP', 'ENFJ', 'ENTP', 'ENTJ', 'ESFP', 'ESFJ', 'ESTJ', 'ESTP', 'INFP', 'INFJ', 'INTP', 'INTJ', 'ISFP', 'ISFJ', 'ISTJ', 'ISTP'] \n",
        "키 = ['당신보다 10cm 이상 작습니다.', '당신보다 10cm 작습니다.', '당신보다 5cm 작습니다', '당신과 비슷합니다.', '당신보다 5cm 큽니다.', '당신보다 10cm 큽니다.', '당신보다 10cm 이상 큽니다.' ]\n",
        "외모 = ['예쁩니다.', '멋있습니다.', '평범합니다.', '개성적입니다.', '강아지상입니다.', '고양이상입니다.', '여우상입니다.']\n",
        "현재위치 = ['당신과 500km이내', '당신과 300km 이내', '당신과 100km 이내', '당신과 50km 이내', '당신과 30km 이내', '당신과 10km 이내']\n",
        "만나는날 = ['이미 만났습니다.', '한달 이내 만나게 됩니다.', '일주일 이내 만나게 됩니다.', '1년 이내 만나게 됩니다.', '5년 이내 만나게 됩니다.', '이번 생에 만나기 힘듭니다.']\n",
        "마음 = ['당신을 사랑하고 있어요.', '당신을 모릅니다.', '당신을 알고 있습니다.', '당신에게 호감을 가지고 있어요.', '당신을 좋아하지 않습니다.', '당신과 가까워지고 싶어합니다.']\n",
        "\n",
        "import random\n",
        "print()\n",
        "print('나이는 ' + random.choice(나이) + '이고')\n",
        "time.sleep(2)\n",
        "print('직업은 ' + random.choice(직업) + '이며')\n",
        "time.sleep(2)\n",
        "print('mbti 성격유형은 ' + random.choice(mbti) + '이고')\n",
        "time.sleep(2)\n",
        "print('키는 ' + random.choice(키))\n",
        "time.sleep(2)\n",
        "print('외모는 ' + random.choice(외모))\n",
        "time.sleep(2)\n",
        "print('배우자의 현재 위치는 ' + random.choice(현재위치) + '에 있습니다.')\n",
        "time.sleep(2)\n",
        "print('당신은 그 사람과 ' + random.choice(만나는날))\n",
        "time.sleep(2)\n",
        "print('그 사람은 ' + random.choice(마음))\n",
        "time.sleep(2)\n",
        "print()\n"
      ]
    }
  ]
}